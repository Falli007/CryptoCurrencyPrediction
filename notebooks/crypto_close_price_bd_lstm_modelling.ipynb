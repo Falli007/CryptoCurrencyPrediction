{
 "cells": [
  {
   "cell_type": "markdown",
   "id": "d7ec449f",
   "metadata": {},
   "source": [
    "Bidirectional LSTM networks use both forward and backward dependencies, capturing more context from the input sequence. This is particularly useful for time series where the current value may depend on both previous and future values in the input window."
   ]
  },
  {
   "cell_type": "markdown",
   "id": "61cee2b1",
   "metadata": {},
   "source": [
    "Importing all the libraries"
   ]
  },
  {
   "cell_type": "code",
   "execution_count": 1,
   "id": "d6dd6c87",
   "metadata": {},
   "outputs": [],
   "source": [
    "# Import Libraries ---\n",
    "import pandas as pd\n",
    "import numpy as np\n",
    "import matplotlib.pyplot as plt\n",
    "import joblib\n",
    "from datetime import timedelta\n",
    "\n",
    "from sklearn.model_selection import RandomizedSearchCV, TimeSeriesSplit\n",
    "from sklearn.metrics import mean_absolute_error, mean_squared_error, r2_score\n",
    "\n",
    "from tensorflow.keras.models import Sequential\n",
    "from tensorflow.keras.layers import LSTM, Dense, Dropout, Bidirectional\n",
    "from tensorflow.keras.wrappers.scikit_learn import KerasRegressor\n",
    "\n",
    "import plotly.graph_objects as go"
   ]
  },
  {
   "cell_type": "markdown",
   "id": "98bd8661",
   "metadata": {},
   "source": [
    "Imports all the necessary Python libraries for data handling, modeling, metrics, and visualization.\n",
    "\n"
   ]
  },
  {
   "cell_type": "markdown",
   "id": "031a7845",
   "metadata": {},
   "source": [
    "Loading the scaler and data"
   ]
  },
  {
   "cell_type": "code",
   "execution_count": 2,
   "id": "33255bcf",
   "metadata": {},
   "outputs": [],
   "source": [
    "\n",
    "#Load Data and Scaler\n",
    "\n",
    "scaled_df = pd.read_csv(r'C:\\Users\\allif\\Downloads\\Crypto_stocks\\data\\processed\\scaled_predictive_coins.csv', parse_dates=['Date'])\n",
    "\n",
    "scaled_df.head()\n",
    "\n",
    "# removing null values\n",
    "scaled_df = scaled_df.dropna()\n",
    "\n",
    "#Loading the minmax scaler for inverse transformation\n",
    "scaler = joblib.load(r'C:\\Users\\allif\\Downloads\\Crypto_stocks\\notebooks\\minmax_scaler_close_prices.pkl')"
   ]
  },
  {
   "cell_type": "markdown",
   "id": "546d191a",
   "metadata": {},
   "source": [
    "Loads the scaled multivariate dataset and the pre-fitted MinMax scaler used for inverse transforming the predictions back to original values."
   ]
  },
  {
   "cell_type": "code",
   "execution_count": 3,
   "id": "486253f9",
   "metadata": {},
   "outputs": [
    {
     "data": {
      "text/html": [
       "<div>\n",
       "<style scoped>\n",
       "    .dataframe tbody tr th:only-of-type {\n",
       "        vertical-align: middle;\n",
       "    }\n",
       "\n",
       "    .dataframe tbody tr th {\n",
       "        vertical-align: top;\n",
       "    }\n",
       "\n",
       "    .dataframe thead th {\n",
       "        text-align: right;\n",
       "    }\n",
       "</style>\n",
       "<table border=\"1\" class=\"dataframe\">\n",
       "  <thead>\n",
       "    <tr style=\"text-align: right;\">\n",
       "      <th></th>\n",
       "      <th>Date</th>\n",
       "      <th>BTC_close_scaled</th>\n",
       "      <th>ETH_close_scaled</th>\n",
       "      <th>LTC_close_scaled</th>\n",
       "      <th>Gold_close_scaled</th>\n",
       "      <th>BTC_close_logret_scaled</th>\n",
       "      <th>ETH_close_logret_scaled</th>\n",
       "      <th>LTC_close_logret_scaled</th>\n",
       "      <th>Gold_close_logret_scaled</th>\n",
       "    </tr>\n",
       "  </thead>\n",
       "  <tbody>\n",
       "    <tr>\n",
       "      <th>1</th>\n",
       "      <td>2020-08-29</td>\n",
       "      <td>0.012194</td>\n",
       "      <td>0.017367</td>\n",
       "      <td>0.040628</td>\n",
       "      <td>0.184812</td>\n",
       "      <td>0.468048</td>\n",
       "      <td>0.597519</td>\n",
       "      <td>0.624911</td>\n",
       "      <td>0.453046</td>\n",
       "    </tr>\n",
       "    <tr>\n",
       "      <th>2</th>\n",
       "      <td>2020-08-30</td>\n",
       "      <td>0.014427</td>\n",
       "      <td>0.024117</td>\n",
       "      <td>0.057795</td>\n",
       "      <td>0.194317</td>\n",
       "      <td>0.544709</td>\n",
       "      <td>0.712650</td>\n",
       "      <td>0.771841</td>\n",
       "      <td>0.637246</td>\n",
       "    </tr>\n",
       "    <tr>\n",
       "      <th>3</th>\n",
       "      <td>2020-08-31</td>\n",
       "      <td>0.013866</td>\n",
       "      <td>0.025198</td>\n",
       "      <td>0.052082</td>\n",
       "      <td>0.188633</td>\n",
       "      <td>0.468147</td>\n",
       "      <td>0.601679</td>\n",
       "      <td>0.590747</td>\n",
       "      <td>0.471003</td>\n",
       "    </tr>\n",
       "    <tr>\n",
       "      <th>4</th>\n",
       "      <td>2020-09-01</td>\n",
       "      <td>0.016347</td>\n",
       "      <td>0.034471</td>\n",
       "      <td>0.057215</td>\n",
       "      <td>0.193862</td>\n",
       "      <td>0.550350</td>\n",
       "      <td>0.745522</td>\n",
       "      <td>0.674535</td>\n",
       "      <td>0.590320</td>\n",
       "    </tr>\n",
       "    <tr>\n",
       "      <th>5</th>\n",
       "      <td>2020-09-02</td>\n",
       "      <td>0.011490</td>\n",
       "      <td>0.026470</td>\n",
       "      <td>0.043788</td>\n",
       "      <td>0.181227</td>\n",
       "      <td>0.350915</td>\n",
       "      <td>0.440990</td>\n",
       "      <td>0.528530</td>\n",
       "      <td>0.394481</td>\n",
       "    </tr>\n",
       "  </tbody>\n",
       "</table>\n",
       "</div>"
      ],
      "text/plain": [
       "        Date  BTC_close_scaled  ETH_close_scaled  LTC_close_scaled   \n",
       "1 2020-08-29          0.012194          0.017367          0.040628  \\\n",
       "2 2020-08-30          0.014427          0.024117          0.057795   \n",
       "3 2020-08-31          0.013866          0.025198          0.052082   \n",
       "4 2020-09-01          0.016347          0.034471          0.057215   \n",
       "5 2020-09-02          0.011490          0.026470          0.043788   \n",
       "\n",
       "   Gold_close_scaled  BTC_close_logret_scaled  ETH_close_logret_scaled   \n",
       "1           0.184812                 0.468048                 0.597519  \\\n",
       "2           0.194317                 0.544709                 0.712650   \n",
       "3           0.188633                 0.468147                 0.601679   \n",
       "4           0.193862                 0.550350                 0.745522   \n",
       "5           0.181227                 0.350915                 0.440990   \n",
       "\n",
       "   LTC_close_logret_scaled  Gold_close_logret_scaled  \n",
       "1                 0.624911                  0.453046  \n",
       "2                 0.771841                  0.637246  \n",
       "3                 0.590747                  0.471003  \n",
       "4                 0.674535                  0.590320  \n",
       "5                 0.528530                  0.394481  "
      ]
     },
     "execution_count": 3,
     "metadata": {},
     "output_type": "execute_result"
    }
   ],
   "source": [
    "scaled_df.head()# defining coins and columns"
   ]
  },
  {
   "cell_type": "code",
   "execution_count": 4,
   "id": "55a94996",
   "metadata": {},
   "outputs": [],
   "source": [
    "# Define Coins and Columns ---\n",
    "coins = {\n",
    "    'BTC': {'col': 'BTC_close_scaled'},\n",
    "    'ETH': {'col': 'ETH_close_scaled'},\n",
    "    'LTC': {'col': 'LTC_close_scaled'},\n",
    "    'Gold': {'col': 'Gold_close_scaled'}\n",
    "}\n",
    "\n",
    "feature_cols = [\n",
    "    'BTC_close_scaled', 'ETH_close_scaled', 'LTC_close_scaled', 'Gold_close_scaled',\n",
    "    'BTC_close_logret_scaled', 'ETH_close_logret_scaled', 'LTC_close_logret_scaled', 'Gold_close_logret_scaled'\n",
    "]\n",
    "\n",
    "lookback = 30\n",
    "forecast_horizon = 14\n",
    "\n"
   ]
  },
  {
   "cell_type": "markdown",
   "id": "fe54a105",
   "metadata": {},
   "source": [
    "Specifies which columns are targets for each coin, and which columns are used as features for multivariate prediction. Also defines lookback window and forecast horizon."
   ]
  },
  {
   "cell_type": "code",
   "execution_count": 5,
   "id": "8de8c3ff",
   "metadata": {},
   "outputs": [],
   "source": [
    "# Sliding Window Function ---\n",
    "def create_sliding_window(df, lookback, forecast_horizon, feature_cols, target_col):\n",
    "    X, Y = [], []\n",
    "    for i in range(len(df) - lookback - forecast_horizon + 1):\n",
    "        X.append(df[feature_cols].iloc[i:i+lookback].values)\n",
    "        Y.append(df[target_col].iloc[i+lookback:i+lookback+forecast_horizon].values)\n",
    "    return np.array(X), np.array(Y)\n",
    "\n"
   ]
  },
  {
   "cell_type": "markdown",
   "id": "ad0918f3",
   "metadata": {},
   "source": [
    "Creates time series “windows” so the model can use a fixed number of past days (lookback) to predict the next sequence of prices (forecast horizon)."
   ]
  },
  {
   "cell_type": "code",
   "execution_count": 6,
   "id": "ee582e28",
   "metadata": {},
   "outputs": [],
   "source": [
    "# Inverse Scaling Helper\n",
    "def inverse_close(scaled_arr, scaler, col_index):\n",
    "    scaled_arr = np.array(scaled_arr)\n",
    "    flat = scaled_arr.reshape(-1)\n",
    "    arr = np.zeros((flat.shape[0], scaler.n_features_in_))\n",
    "    arr[:, col_index] = flat\n",
    "    inv = scaler.inverse_transform(arr)[:, col_index]\n",
    "    return inv.reshape(scaled_arr.shape)\n",
    "\n"
   ]
  },
  {
   "cell_type": "markdown",
   "id": "9cde2c81",
   "metadata": {},
   "source": [
    "Transforms model predictions (which are scaled) back to original close price values using the MinMax scaler."
   ]
  },
  {
   "cell_type": "code",
   "execution_count": 7,
   "id": "46413d2f",
   "metadata": {},
   "outputs": [],
   "source": [
    "# -- Model Builder (BD-LSTM) ---\n",
    "def build_bd_lstm_model(lstm_units=64, dropout=0.2, lr=0.001):\n",
    "    model = Sequential()\n",
    "    model.add(Bidirectional(LSTM(lstm_units, return_sequences=False), input_shape=(lookback, len(feature_cols))))\n",
    "    model.add(Dropout(dropout))\n",
    "    model.add(Dense(forecast_horizon))\n",
    "    model.compile(optimizer='adam', loss='mse')\n",
    "    return model\n"
   ]
  },
  {
   "cell_type": "markdown",
   "id": "a2ca084c",
   "metadata": {},
   "source": [
    "Defines a function to build a Bidirectional LSTM model that predicts the next 14 days using the previous 30 days of multivariate input"
   ]
  },
  {
   "cell_type": "code",
   "execution_count": 8,
   "id": "5651ba72",
   "metadata": {},
   "outputs": [
    {
     "name": "stdout",
     "output_type": "stream",
     "text": [
      "\n",
      "====== Processing BTC ======\n"
     ]
    },
    {
     "name": "stderr",
     "output_type": "stream",
     "text": [
      "C:\\Users\\allif\\AppData\\Local\\Temp\\ipykernel_32248\\1080004764.py:16: DeprecationWarning: KerasRegressor is deprecated, use Sci-Keras (https://github.com/adriangb/scikeras) instead. See https://www.adriangb.com/scikeras/stable/migration.html for help migrating.\n",
      "  keras_reg = KerasRegressor(build_fn=build_bd_lstm_model, verbose=0)\n"
     ]
    },
    {
     "name": "stdout",
     "output_type": "stream",
     "text": [
      "Fitting 3 folds for each of 4 candidates, totalling 12 fits\n",
      "[CV] END batch_size=16, dropout=0.2, epochs=10, lstm_units=32; total time=  12.6s\n",
      "[CV] END batch_size=16, dropout=0.2, epochs=10, lstm_units=32; total time=  14.5s\n",
      "[CV] END batch_size=16, dropout=0.2, epochs=10, lstm_units=32; total time=  22.8s\n",
      "[CV] END batch_size=16, dropout=0.1, epochs=10, lstm_units=32; total time=  22.8s\n",
      "[CV] END batch_size=16, dropout=0.1, epochs=10, lstm_units=32; total time=  38.7s\n",
      "[CV] END batch_size=16, dropout=0.1, epochs=10, lstm_units=32; total time=  49.2s\n",
      "[CV] END batch_size=16, dropout=0.2, epochs=10, lstm_units=64; total time=  37.2s\n",
      "[CV] END batch_size=16, dropout=0.2, epochs=10, lstm_units=64; total time=  47.9s\n",
      "[CV] END batch_size=16, dropout=0.2, epochs=10, lstm_units=64; total time= 1.1min\n",
      "[CV] END batch_size=16, dropout=0.2, epochs=15, lstm_units=64; total time=  22.8s\n",
      "[CV] END batch_size=16, dropout=0.2, epochs=15, lstm_units=64; total time=  26.9s\n",
      "[CV] END batch_size=16, dropout=0.2, epochs=15, lstm_units=64; total time=  40.9s\n",
      "Best hyperparameters for BTC: {'lstm_units': 64, 'epochs': 15, 'dropout': 0.2, 'batch_size': 16}\n",
      "Epoch 1/15\n",
      "88/88 - 19s - loss: 0.0122 - 19s/epoch - 214ms/step\n",
      "Epoch 2/15\n",
      "88/88 - 6s - loss: 0.0041 - 6s/epoch - 70ms/step\n",
      "Epoch 3/15\n",
      "88/88 - 6s - loss: 0.0031 - 6s/epoch - 70ms/step\n",
      "Epoch 4/15\n",
      "88/88 - 6s - loss: 0.0027 - 6s/epoch - 70ms/step\n",
      "Epoch 5/15\n",
      "88/88 - 6s - loss: 0.0022 - 6s/epoch - 70ms/step\n",
      "Epoch 6/15\n",
      "88/88 - 6s - loss: 0.0020 - 6s/epoch - 70ms/step\n",
      "Epoch 7/15\n",
      "88/88 - 6s - loss: 0.0019 - 6s/epoch - 69ms/step\n",
      "Epoch 8/15\n",
      "88/88 - 6s - loss: 0.0018 - 6s/epoch - 68ms/step\n",
      "Epoch 9/15\n",
      "88/88 - 6s - loss: 0.0016 - 6s/epoch - 72ms/step\n",
      "Epoch 10/15\n",
      "88/88 - 6s - loss: 0.0015 - 6s/epoch - 74ms/step\n",
      "Epoch 11/15\n",
      "88/88 - 6s - loss: 0.0015 - 6s/epoch - 68ms/step\n",
      "Epoch 12/15\n",
      "88/88 - 6s - loss: 0.0016 - 6s/epoch - 68ms/step\n",
      "Epoch 13/15\n",
      "88/88 - 6s - loss: 0.0013 - 6s/epoch - 69ms/step\n",
      "Epoch 14/15\n",
      "88/88 - 6s - loss: 0.0014 - 6s/epoch - 70ms/step\n",
      "Epoch 15/15\n",
      "88/88 - 6s - loss: 0.0015 - 6s/epoch - 70ms/step\n",
      "11/11 [==============================] - 3s 34ms/step\n",
      "BTC MAE: 323.21 | RMSE: 395.79 | R2: 0.6829\n"
     ]
    },
    {
     "data": {
      "image/png": "[encoded data removed]",
      "text/plain": [
       "<Figure size 1400x700 with 1 Axes>"
      ]
     },
     "metadata": {},
     "output_type": "display_data"
    },
    {
     "name": "stdout",
     "output_type": "stream",
     "text": [
      "1/1 [==============================] - 0s 116ms/step\n"
     ]
    },
    {
     "data": {
      "application/vnd.plotly.v1+json": {
       "config": {
        "plotlyServerURL": "https://plot.ly"
       },
       "data": [
        {
         "mode": "lines+markers",
         "name": "BTC Forecast (next 14d)",
         "type": "scatter",
         "x": [
          "2025-07-25T00:00:00",
          "2025-07-26T00:00:00",
          "2025-07-27T00:00:00",
          "2025-07-28T00:00:00",
          "2025-07-29T00:00:00",
          "2025-07-30T00:00:00",
          "2025-07-31T00:00:00",
          "2025-08-01T00:00:00",
          "2025-08-02T00:00:00",
          "2025-08-03T00:00:00",
          "2025-08-04T00:00:00",
          "2025-08-05T00:00:00",
          "2025-08-06T00:00:00",
          "2025-08-07T00:00:00"
         ],
         "y": [
          4365.84280801177,
          4130.720311756134,
          4259.836299531459,
          4043.3810138809677,
          3967.970768076181,
          4057.77124702692,
          3982.0860507607454,
          4010.7830690526957,
          4039.435153806209,
          3919.4511053335664,
          4044.776895649433,
          3904.983308341503,
          3871.090849667787,
          4047.712286032438
         ]
        }
       ],
       "layout": {
        "template": {
         "data": {
          "bar": [
           {
            "error_x": {
             "color": "#2a3f5f"
            },
            "error_y": {
             "color": "#2a3f5f"
            },
            "marker": {
             "line": {
              "color": "#E5ECF6",
              "width": 0.5
             },
             "pattern": {
              "fillmode": "overlay",
              "size": 10,
              "solidity": 0.2
             }
            },
            "type": "bar"
           }
          ],
          "barpolar": [
           {
            "marker": {
             "line": {
              "color": "#E5ECF6",
              "width": 0.5
             },
             "pattern": {
              "fillmode": "overlay",
              "size": 10,
              "solidity": 0.2
             }
            },
            "type": "barpolar"
           }
          ],
          "carpet": [
           {
            "aaxis": {
             "endlinecolor": "#2a3f5f",
             "gridcolor": "white",
             "linecolor": "white",
             "minorgridcolor": "white",
             "startlinecolor": "#2a3f5f"
            },
            "baxis": {
             "endlinecolor": "#2a3f5f",
             "gridcolor": "white",
             "linecolor": "white",
             "minorgridcolor": "white",
             "startlinecolor": "#2a3f5f"
            },
            "type": "carpet"
           }
          ],
          "choropleth": [
           {
            "colorbar": {
             "outlinewidth": 0,
             "ticks": ""
            },
            "type": "choropleth"
           }
          ],
          "contour": [
           {
            "colorbar": {
             "outlinewidth": 0,
             "ticks": ""
            },
            "colorscale": [
             [
              0,
              "#0d0887"
             ],
             [
              0.1111111111111111,
              "#46039f"
             ],
             [
              0.2222222222222222,
              "#7201a8"
             ],
             [
              0.3333333333333333,
              "#9c179e"
             ],
             [
              0.4444444444444444,
              "#bd3786"
             ],
             [
              0.5555555555555556,
              "#d8576b"
             ],
             [
              0.6666666666666666,
              "#ed7953"
             ],
             [
              0.7777777777777778,
              "#fb9f3a"
             ],
             [
              0.8888888888888888,
              "#fdca26"
             ],
             [
              1,
              "#f0f921"
             ]
            ],
            "type": "contour"
           }
          ],
          "contourcarpet": [
           {
            "colorbar": {
             "outlinewidth": 0,
             "ticks": ""
            },
            "type": "contourcarpet"
           }
          ],
          "heatmap": [
           {
            "colorbar": {
             "outlinewidth": 0,
             "ticks": ""
            },
            "colorscale": [
             [
              0,
              "#0d0887"
             ],
             [
              0.1111111111111111,
              "#46039f"
             ],
             [
              0.2222222222222222,
              "#7201a8"
             ],
             [
              0.3333333333333333,
              "#9c179e"
             ],
             [
              0.4444444444444444,
              "#bd3786"
             ],
             [
              0.5555555555555556,
              "#d8576b"
             ],
             [
              0.6666666666666666,
              "#ed7953"
             ],
             [
              0.7777777777777778,
              "#fb9f3a"
             ],
             [
              0.8888888888888888,
              "#fdca26"
             ],
             [
              1,
              "#f0f921"
             ]
            ],
            "type": "heatmap"
           }
          ],
          "heatmapgl": [
           {
            "colorbar": {
             "outlinewidth": 0,
             "ticks": ""
            },
            "colorscale": [
             [
              0,
              "#0d0887"
             ],
             [
              0.1111111111111111,
              "#46039f"
             ],
             [
              0.2222222222222222,
              "#7201a8"
             ],
             [
              0.3333333333333333,
              "#9c179e"
             ],
             [
              0.4444444444444444,
              "#bd3786"
             ],
             [
              0.5555555555555556,
              "#d8576b"
             ],
             [
              0.6666666666666666,
              "#ed7953"
             ],
             [
              0.7777777777777778,
              "#fb9f3a"
             ],
             [
              0.8888888888888888,
              "#fdca26"
             ],
             [
              1,
              "#f0f921"
             ]
            ],
            "type": "heatmapgl"
           }
          ],
          "histogram": [
           {
            "marker": {
             "pattern": {
              "fillmode": "overlay",
              "size": 10,
              "solidity": 0.2
             }
            },
            "type": "histogram"
           }
          ],
          "histogram2d": [
           {
            "colorbar": {
             "outlinewidth": 0,
             "ticks": ""
            },
            "colorscale": [
             [
              0,
              "#0d0887"
             ],
             [
              0.1111111111111111,
              "#46039f"
             ],
             [
              0.2222222222222222,
              "#7201a8"
             ],
             [
              0.3333333333333333,
              "#9c179e"
             ],
             [
              0.4444444444444444,
              "#bd3786"
             ],
             [
              0.5555555555555556,
              "#d8576b"
             ],
             [
              0.6666666666666666,
              "#ed7953"
             ],
             [
              0.7777777777777778,
              "#fb9f3a"
             ],
             [
              0.8888888888888888,
              "#fdca26"
             ],
             [
              1,
              "#f0f921"
             ]
            ],
            "type": "histogram2d"
           }
          ],
          "histogram2dcontour": [
           {
            "colorbar": {
             "outlinewidth": 0,
             "ticks": ""
            },
            "colorscale": [
             [
              0,
              "#0d0887"
             ],
             [
              0.1111111111111111,
              "#46039f"
             ],
             [
              0.2222222222222222,
              "#7201a8"
             ],
             [
              0.3333333333333333,
              "#9c179e"
             ],
             [
              0.4444444444444444,
              "#bd3786"
             ],
             [
              0.5555555555555556,
              "#d8576b"
             ],
             [
              0.6666666666666666,
              "#ed7953"
             ],
             [
              0.7777777777777778,
              "#fb9f3a"
             ],
             [
              0.8888888888888888,
              "#fdca26"
             ],
             [
              1,
              "#f0f921"
             ]
            ],
            "type": "histogram2dcontour"
           }
          ],
          "mesh3d": [
           {
            "colorbar": {
             "outlinewidth": 0,
             "ticks": ""
            },
            "type": "mesh3d"
           }
          ],
          "parcoords": [
           {
            "line": {
             "colorbar": {
              "outlinewidth": 0,
              "ticks": ""
             }
            },
            "type": "parcoords"
           }
          ],
          "pie": [
           {
            "automargin": true,
            "type": "pie"
           }
          ],
          "scatter": [
           {
            "fillpattern": {
             "fillmode": "overlay",
             "size": 10,
             "solidity": 0.2
            },
            "type": "scatter"
           }
          ],
          "scatter3d": [
           {
            "line": {
             "colorbar": {
              "outlinewidth": 0,
              "ticks": ""
             }
            },
            "marker": {
             "colorbar": {
              "outlinewidth": 0,
              "ticks": ""
             }
            },
            "type": "scatter3d"
           }
          ],
          "scattercarpet": [
           {
            "marker": {
             "colorbar": {
              "outlinewidth": 0,
              "ticks": ""
             }
            },
            "type": "scattercarpet"
           }
          ],
          "scattergeo": [
           {
            "marker": {
             "colorbar": {
              "outlinewidth": 0,
              "ticks": ""
             }
            },
            "type": "scattergeo"
           }
          ],
          "scattergl": [
           {
            "marker": {
             "colorbar": {
              "outlinewidth": 0,
              "ticks": ""
             }
            },
            "type": "scattergl"
           }
          ],
          "scattermapbox": [
           {
            "marker": {
             "colorbar": {
              "outlinewidth": 0,
              "ticks": ""
             }
            },
            "type": "scattermapbox"
           }
          ],
          "scatterpolar": [
           {
            "marker": {
             "colorbar": {
              "outlinewidth": 0,
              "ticks": ""
             }
            },
            "type": "scatterpolar"
           }
          ],
          "scatterpolargl": [
           {
            "marker": {
             "colorbar": {
              "outlinewidth": 0,
              "ticks": ""
             }
            },
            "type": "scatterpolargl"
           }
          ],
          "scatterternary": [
           {
            "marker": {
             "colorbar": {
              "outlinewidth": 0,
              "ticks": ""
             }
            },
            "type": "scatterternary"
           }
          ],
          "surface": [
           {
            "colorbar": {
             "outlinewidth": 0,
             "ticks": ""
            },
            "colorscale": [
             [
              0,
              "#0d0887"
             ],
             [
              0.1111111111111111,
              "#46039f"
             ],
             [
              0.2222222222222222,
              "#7201a8"
             ],
             [
              0.3333333333333333,
              "#9c179e"
             ],
             [
              0.4444444444444444,
              "#bd3786"
             ],
             [
              0.5555555555555556,
              "#d8576b"
             ],
             [
              0.6666666666666666,
              "#ed7953"
             ],
             [
              0.7777777777777778,
              "#fb9f3a"
             ],
             [
              0.8888888888888888,
              "#fdca26"
             ],
             [
              1,
              "#f0f921"
             ]
            ],
            "type": "surface"
           }
          ],
          "table": [
           {
            "cells": {
             "fill": {
              "color": "#EBF0F8"
             },
             "line": {
              "color": "white"
             }
            },
            "header": {
             "fill": {
              "color": "#C8D4E3"
             },
             "line": {
              "color": "white"
             }
            },
            "type": "table"
           }
          ]
         },
         "layout": {
          "annotationdefaults": {
           "arrowcolor": "#2a3f5f",
           "arrowhead": 0,
           "arrowwidth": 1
          },
          "autotypenumbers": "strict",
          "coloraxis": {
           "colorbar": {
            "outlinewidth": 0,
            "ticks": ""
           }
          },
          "colorscale": {
           "diverging": [
            [
             0,
             "#8e0152"
            ],
            [
             0.1,
             "#c51b7d"
            ],
            [
             0.2,
             "#de77ae"
            ],
            [
             0.3,
             "#f1b6da"
            ],
            [
             0.4,
             "#fde0ef"
            ],
            [
             0.5,
             "#f7f7f7"
            ],
            [
             0.6,
             "#e6f5d0"
            ],
            [
             0.7,
             "#b8e186"
            ],
            [
             0.8,
             "#7fbc41"
            ],
            [
             0.9,
             "#4d9221"
            ],
            [
             1,
             "#276419"
            ]
           ],
           "sequential": [
            [
             0,
             "#0d0887"
            ],
            [
             0.1111111111111111,
             "#46039f"
            ],
            [
             0.2222222222222222,
             "#7201a8"
            ],
            [
             0.3333333333333333,
             "#9c179e"
            ],
            [
             0.4444444444444444,
             "#bd3786"
            ],
            [
             0.5555555555555556,
             "#d8576b"
            ],
            [
             0.6666666666666666,
             "#ed7953"
            ],
            [
             0.7777777777777778,
             "#fb9f3a"
            ],
            [
             0.8888888888888888,
             "#fdca26"
            ],
            [
             1,
             "#f0f921"
            ]
           ],
           "sequentialminus": [
            [
             0,
             "#0d0887"
            ],
            [
             0.1111111111111111,
             "#46039f"
            ],
            [
             0.2222222222222222,
             "#7201a8"
            ],
            [
             0.3333333333333333,
             "#9c179e"
            ],
            [
             0.4444444444444444,
             "#bd3786"
            ],
            [
             0.5555555555555556,
             "#d8576b"
            ],
            [
             0.6666666666666666,
             "#ed7953"
            ],
            [
             0.7777777777777778,
             "#fb9f3a"
            ],
            [
             0.8888888888888888,
             "#fdca26"
            ],
            [
             1,
             "#f0f921"
            ]
           ]
          },
          "colorway": [
           "#636efa",
           "#EF553B",
           "#00cc96",
           "#ab63fa",
           "#FFA15A",
           "#19d3f3",
           "#FF6692",
           "#B6E880",
           "#FF97FF",
           "#FECB52"
          ],
          "font": {
           "color": "#2a3f5f"
          },
          "geo": {
           "bgcolor": "white",
           "lakecolor": "white",
           "landcolor": "#E5ECF6",
           "showlakes": true,
           "showland": true,
           "subunitcolor": "white"
          },
          "hoverlabel": {
           "align": "left"
          },
          "hovermode": "closest",
          "mapbox": {
           "style": "light"
          },
          "paper_bgcolor": "white",
          "plot_bgcolor": "#E5ECF6",
          "polar": {
           "angularaxis": {
            "gridcolor": "white",
            "linecolor": "white",
            "ticks": ""
           },
           "bgcolor": "#E5ECF6",
           "radialaxis": {
            "gridcolor": "white",
            "linecolor": "white",
            "ticks": ""
           }
          },
          "scene": {
           "xaxis": {
            "backgroundcolor": "#E5ECF6",
            "gridcolor": "white",
            "gridwidth": 2,
            "linecolor": "white",
            "showbackground": true,
            "ticks": "",
            "zerolinecolor": "white"
           },
           "yaxis": {
            "backgroundcolor": "#E5ECF6",
            "gridcolor": "white",
            "gridwidth": 2,
            "linecolor": "white",
            "showbackground": true,
            "ticks": "",
            "zerolinecolor": "white"
           },
           "zaxis": {
            "backgroundcolor": "#E5ECF6",
            "gridcolor": "white",
            "gridwidth": 2,
            "linecolor": "white",
            "showbackground": true,
            "ticks": "",
            "zerolinecolor": "white"
           }
          },
          "shapedefaults": {
           "line": {
            "color": "#2a3f5f"
           }
          },
          "ternary": {
           "aaxis": {
            "gridcolor": "white",
            "linecolor": "white",
            "ticks": ""
           },
           "baxis": {
            "gridcolor": "white",
            "linecolor": "white",
            "ticks": ""
           },
           "bgcolor": "#E5ECF6",
           "caxis": {
            "gridcolor": "white",
            "linecolor": "white",
            "ticks": ""
           }
          },
          "title": {
           "x": 0.05
          },
          "xaxis": {
           "automargin": true,
           "gridcolor": "white",
           "linecolor": "white",
           "ticks": "",
           "title": {
            "standoff": 15
           },
           "zerolinecolor": "white",
           "zerolinewidth": 2
          },
          "yaxis": {
           "automargin": true,
           "gridcolor": "white",
           "linecolor": "white",
           "ticks": "",
           "title": {
            "standoff": 15
           },
           "zerolinecolor": "white",
           "zerolinewidth": 2
          }
         }
        },
        "title": {
         "text": "BTC 14-Day Future BD-LSTM Forecast (Unseen Data)"
        },
        "xaxis": {
         "title": {
          "text": "Date"
         }
        },
        "yaxis": {
         "title": {
          "text": "BTC Close Price (USD)"
         }
        }
       }
      }
     },
     "metadata": {},
     "output_type": "display_data"
    },
    {
     "name": "stdout",
     "output_type": "stream",
     "text": [
      "Saved BD-LSTM model for BTC\n",
      "\n",
      "====== Processing ETH ======\n"
     ]
    },
    {
     "name": "stderr",
     "output_type": "stream",
     "text": [
      "C:\\Users\\allif\\AppData\\Local\\Temp\\ipykernel_32248\\1080004764.py:16: DeprecationWarning:\n",
      "\n",
      "KerasRegressor is deprecated, use Sci-Keras (https://github.com/adriangb/scikeras) instead. See https://www.adriangb.com/scikeras/stable/migration.html for help migrating.\n",
      "\n"
     ]
    },
    {
     "name": "stdout",
     "output_type": "stream",
     "text": [
      "Fitting 3 folds for each of 4 candidates, totalling 12 fits\n",
      "[CV] END batch_size=32, dropout=0.2, epochs=15, lstm_units=32; total time=  22.6s\n",
      "[CV] END batch_size=32, dropout=0.2, epochs=15, lstm_units=32; total time=  14.8s\n",
      "[CV] END batch_size=32, dropout=0.2, epochs=15, lstm_units=32; total time=  19.0s\n",
      "[CV] END batch_size=32, dropout=0.1, epochs=15, lstm_units=32; total time=  10.0s\n",
      "[CV] END batch_size=32, dropout=0.1, epochs=15, lstm_units=32; total time=  13.4s\n",
      "[CV] END batch_size=32, dropout=0.1, epochs=15, lstm_units=32; total time=  20.3s\n",
      "[CV] END batch_size=32, dropout=0.2, epochs=10, lstm_units=32; total time=   8.4s\n",
      "[CV] END batch_size=32, dropout=0.2, epochs=10, lstm_units=32; total time=  11.5s\n",
      "[CV] END batch_size=32, dropout=0.2, epochs=10, lstm_units=32; total time=  15.7s\n",
      "[CV] END batch_size=16, dropout=0.1, epochs=15, lstm_units=64; total time=  17.7s\n",
      "[CV] END batch_size=16, dropout=0.1, epochs=15, lstm_units=64; total time=  29.8s\n",
      "[CV] END batch_size=16, dropout=0.1, epochs=15, lstm_units=64; total time= 1.3min\n",
      "Best hyperparameters for ETH: {'lstm_units': 32, 'epochs': 15, 'dropout': 0.2, 'batch_size': 32}\n",
      "Epoch 1/15\n",
      "44/44 - 14s - loss: 0.0680 - 14s/epoch - 324ms/step\n",
      "Epoch 2/15\n",
      "44/44 - 3s - loss: 0.0176 - 3s/epoch - 69ms/step\n",
      "Epoch 3/15\n",
      "44/44 - 3s - loss: 0.0129 - 3s/epoch - 69ms/step\n",
      "Epoch 4/15\n",
      "44/44 - 3s - loss: 0.0110 - 3s/epoch - 73ms/step\n",
      "Epoch 5/15\n",
      "44/44 - 3s - loss: 0.0101 - 3s/epoch - 75ms/step\n",
      "Epoch 6/15\n",
      "44/44 - 3s - loss: 0.0090 - 3s/epoch - 75ms/step\n",
      "Epoch 7/15\n",
      "44/44 - 3s - loss: 0.0086 - 3s/epoch - 71ms/step\n",
      "Epoch 8/15\n",
      "44/44 - 3s - loss: 0.0084 - 3s/epoch - 69ms/step\n",
      "Epoch 9/15\n",
      "44/44 - 3s - loss: 0.0074 - 3s/epoch - 69ms/step\n",
      "Epoch 10/15\n",
      "44/44 - 3s - loss: 0.0072 - 3s/epoch - 68ms/step\n",
      "Epoch 11/15\n",
      "44/44 - 3s - loss: 0.0071 - 3s/epoch - 68ms/step\n",
      "Epoch 12/15\n",
      "44/44 - 3s - loss: 0.0072 - 3s/epoch - 67ms/step\n",
      "Epoch 13/15\n",
      "44/44 - 3s - loss: 0.0066 - 3s/epoch - 68ms/step\n",
      "Epoch 14/15\n",
      "44/44 - 3s - loss: 0.0063 - 3s/epoch - 67ms/step\n",
      "Epoch 15/15\n",
      "44/44 - 3s - loss: 0.0059 - 3s/epoch - 68ms/step\n",
      "11/11 [==============================] - 2s 33ms/step\n",
      "ETH MAE: 21.85 | RMSE: 26.68 | R2: 0.5966\n"
     ]
    },
    {
     "data": {
      "image/png": "[encoded data removed]",
      "text/plain": [
       "<Figure size 1400x700 with 1 Axes>"
      ]
     },
     "metadata": {},
     "output_type": "display_data"
    },
    {
     "name": "stdout",
     "output_type": "stream",
     "text": [
      "1/1 [==============================] - 0s 141ms/step\n"
     ]
    },
    {
     "data": {
      "application/vnd.plotly.v1+json": {
       "config": {
        "plotlyServerURL": "https://plot.ly"
       },
       "data": [
        {
         "mode": "lines+markers",
         "name": "ETH Forecast (next 14d)",
         "type": "scatter",
         "x": [
          "2025-07-25T00:00:00",
          "2025-07-26T00:00:00",
          "2025-07-27T00:00:00",
          "2025-07-28T00:00:00",
          "2025-07-29T00:00:00",
          "2025-07-30T00:00:00",
          "2025-07-31T00:00:00",
          "2025-08-01T00:00:00",
          "2025-08-02T00:00:00",
          "2025-08-03T00:00:00",
          "2025-08-04T00:00:00",
          "2025-08-05T00:00:00",
          "2025-08-06T00:00:00",
          "2025-08-07T00:00:00"
         ],
         "y": [
          264.56752355575566,
          281.8400710082054,
          277.004315969944,
          275.3612034034729,
          292.9870546913147,
          293.4775363612175,
          288.07923709869385,
          279.4377323627472,
          273.1219818234444,
          292.8267329788208,
          304.14924838304523,
          312.8500104904175,
          296.75342279911047,
          296.6571475553513
         ]
        }
       ],
       "layout": {
        "template": {
         "data": {
          "bar": [
           {
            "error_x": {
             "color": "#2a3f5f"
            },
            "error_y": {
             "color": "#2a3f5f"
            },
            "marker": {
             "line": {
              "color": "#E5ECF6",
              "width": 0.5
             },
             "pattern": {
              "fillmode": "overlay",
              "size": 10,
              "solidity": 0.2
             }
            },
            "type": "bar"
           }
          ],
          "barpolar": [
           {
            "marker": {
             "line": {
              "color": "#E5ECF6",
              "width": 0.5
             },
             "pattern": {
              "fillmode": "overlay",
              "size": 10,
              "solidity": 0.2
             }
            },
            "type": "barpolar"
           }
          ],
          "carpet": [
           {
            "aaxis": {
             "endlinecolor": "#2a3f5f",
             "gridcolor": "white",
             "linecolor": "white",
             "minorgridcolor": "white",
             "startlinecolor": "#2a3f5f"
            },
            "baxis": {
             "endlinecolor": "#2a3f5f",
             "gridcolor": "white",
             "linecolor": "white",
             "minorgridcolor": "white",
             "startlinecolor": "#2a3f5f"
            },
            "type": "carpet"
           }
          ],
          "choropleth": [
           {
            "colorbar": {
             "outlinewidth": 0,
             "ticks": ""
            },
            "type": "choropleth"
           }
          ],
          "contour": [
           {
            "colorbar": {
             "outlinewidth": 0,
             "ticks": ""
            },
            "colorscale": [
             [
              0,
              "#0d0887"
             ],
             [
              0.1111111111111111,
              "#46039f"
             ],
             [
              0.2222222222222222,
              "#7201a8"
             ],
             [
              0.3333333333333333,
              "#9c179e"
             ],
             [
              0.4444444444444444,
              "#bd3786"
             ],
             [
              0.5555555555555556,
              "#d8576b"
             ],
             [
              0.6666666666666666,
              "#ed7953"
             ],
             [
              0.7777777777777778,
              "#fb9f3a"
             ],
             [
              0.8888888888888888,
              "#fdca26"
             ],
             [
              1,
              "#f0f921"
             ]
            ],
            "type": "contour"
           }
          ],
          "contourcarpet": [
           {
            "colorbar": {
             "outlinewidth": 0,
             "ticks": ""
            },
            "type": "contourcarpet"
           }
          ],
          "heatmap": [
           {
            "colorbar": {
             "outlinewidth": 0,
             "ticks": ""
            },
            "colorscale": [
             [
              0,
              "#0d0887"
             ],
             [
              0.1111111111111111,
              "#46039f"
             ],
             [
              0.2222222222222222,
              "#7201a8"
             ],
             [
              0.3333333333333333,
              "#9c179e"
             ],
             [
              0.4444444444444444,
              "#bd3786"
             ],
             [
              0.5555555555555556,
              "#d8576b"
             ],
             [
              0.6666666666666666,
              "#ed7953"
             ],
             [
              0.7777777777777778,
              "#fb9f3a"
             ],
             [
              0.8888888888888888,
              "#fdca26"
             ],
             [
              1,
              "#f0f921"
             ]
            ],
            "type": "heatmap"
           }
          ],
          "heatmapgl": [
           {
            "colorbar": {
             "outlinewidth": 0,
             "ticks": ""
            },
            "colorscale": [
             [
              0,
              "#0d0887"
             ],
             [
              0.1111111111111111,
              "#46039f"
             ],
             [
              0.2222222222222222,
              "#7201a8"
             ],
             [
              0.3333333333333333,
              "#9c179e"
             ],
             [
              0.4444444444444444,
              "#bd3786"
             ],
             [
              0.5555555555555556,
              "#d8576b"
             ],
             [
              0.6666666666666666,
              "#ed7953"
             ],
             [
              0.7777777777777778,
              "#fb9f3a"
             ],
             [
              0.8888888888888888,
              "#fdca26"
             ],
             [
              1,
              "#f0f921"
             ]
            ],
            "type": "heatmapgl"
           }
          ],
          "histogram": [
           {
            "marker": {
             "pattern": {
              "fillmode": "overlay",
              "size": 10,
              "solidity": 0.2
             }
            },
            "type": "histogram"
           }
          ],
          "histogram2d": [
           {
            "colorbar": {
             "outlinewidth": 0,
             "ticks": ""
            },
            "colorscale": [
             [
              0,
              "#0d0887"
             ],
             [
              0.1111111111111111,
              "#46039f"
             ],
             [
              0.2222222222222222,
              "#7201a8"
             ],
             [
              0.3333333333333333,
              "#9c179e"
             ],
             [
              0.4444444444444444,
              "#bd3786"
             ],
             [
              0.5555555555555556,
              "#d8576b"
             ],
             [
              0.6666666666666666,
              "#ed7953"
             ],
             [
              0.7777777777777778,
              "#fb9f3a"
             ],
             [
              0.8888888888888888,
              "#fdca26"
             ],
             [
              1,
              "#f0f921"
             ]
            ],
            "type": "histogram2d"
           }
          ],
          "histogram2dcontour": [
           {
            "colorbar": {
             "outlinewidth": 0,
             "ticks": ""
            },
            "colorscale": [
             [
              0,
              "#0d0887"
             ],
             [
              0.1111111111111111,
              "#46039f"
             ],
             [
              0.2222222222222222,
              "#7201a8"
             ],
             [
              0.3333333333333333,
              "#9c179e"
             ],
             [
              0.4444444444444444,
              "#bd3786"
             ],
             [
              0.5555555555555556,
              "#d8576b"
             ],
             [
              0.6666666666666666,
              "#ed7953"
             ],
             [
              0.7777777777777778,
              "#fb9f3a"
             ],
             [
              0.8888888888888888,
              "#fdca26"
             ],
             [
              1,
              "#f0f921"
             ]
            ],
            "type": "histogram2dcontour"
           }
          ],
          "mesh3d": [
           {
            "colorbar": {
             "outlinewidth": 0,
             "ticks": ""
            },
            "type": "mesh3d"
           }
          ],
          "parcoords": [
           {
            "line": {
             "colorbar": {
              "outlinewidth": 0,
              "ticks": ""
             }
            },
            "type": "parcoords"
           }
          ],
          "pie": [
           {
            "automargin": true,
            "type": "pie"
           }
          ],
          "scatter": [
           {
            "fillpattern": {
             "fillmode": "overlay",
             "size": 10,
             "solidity": 0.2
            },
            "type": "scatter"
           }
          ],
          "scatter3d": [
           {
            "line": {
             "colorbar": {
              "outlinewidth": 0,
              "ticks": ""
             }
            },
            "marker": {
             "colorbar": {
              "outlinewidth": 0,
              "ticks": ""
             }
            },
            "type": "scatter3d"
           }
          ],
          "scattercarpet": [
           {
            "marker": {
             "colorbar": {
              "outlinewidth": 0,
              "ticks": ""
             }
            },
            "type": "scattercarpet"
           }
          ],
          "scattergeo": [
           {
            "marker": {
             "colorbar": {
              "outlinewidth": 0,
              "ticks": ""
             }
            },
            "type": "scattergeo"
           }
          ],
          "scattergl": [
           {
            "marker": {
             "colorbar": {
              "outlinewidth": 0,
              "ticks": ""
             }
            },
            "type": "scattergl"
           }
          ],
          "scattermapbox": [
           {
            "marker": {
             "colorbar": {
              "outlinewidth": 0,
              "ticks": ""
             }
            },
            "type": "scattermapbox"
           }
          ],
          "scatterpolar": [
           {
            "marker": {
             "colorbar": {
              "outlinewidth": 0,
              "ticks": ""
             }
            },
            "type": "scatterpolar"
           }
          ],
          "scatterpolargl": [
           {
            "marker": {
             "colorbar": {
              "outlinewidth": 0,
              "ticks": ""
             }
            },
            "type": "scatterpolargl"
           }
          ],
          "scatterternary": [
           {
            "marker": {
             "colorbar": {
              "outlinewidth": 0,
              "ticks": ""
             }
            },
            "type": "scatterternary"
           }
          ],
          "surface": [
           {
            "colorbar": {
             "outlinewidth": 0,
             "ticks": ""
            },
            "colorscale": [
             [
              0,
              "#0d0887"
             ],
             [
              0.1111111111111111,
              "#46039f"
             ],
             [
              0.2222222222222222,
              "#7201a8"
             ],
             [
              0.3333333333333333,
              "#9c179e"
             ],
             [
              0.4444444444444444,
              "#bd3786"
             ],
             [
              0.5555555555555556,
              "#d8576b"
             ],
             [
              0.6666666666666666,
              "#ed7953"
             ],
             [
              0.7777777777777778,
              "#fb9f3a"
             ],
             [
              0.8888888888888888,
              "#fdca26"
             ],
             [
              1,
              "#f0f921"
             ]
            ],
            "type": "surface"
           }
          ],
          "table": [
           {
            "cells": {
             "fill": {
              "color": "#EBF0F8"
             },
             "line": {
              "color": "white"
             }
            },
            "header": {
             "fill": {
              "color": "#C8D4E3"
             },
             "line": {
              "color": "white"
             }
            },
            "type": "table"
           }
          ]
         },
         "layout": {
          "annotationdefaults": {
           "arrowcolor": "#2a3f5f",
           "arrowhead": 0,
           "arrowwidth": 1
          },
          "autotypenumbers": "strict",
          "coloraxis": {
           "colorbar": {
            "outlinewidth": 0,
            "ticks": ""
           }
          },
          "colorscale": {
           "diverging": [
            [
             0,
             "#8e0152"
            ],
            [
             0.1,
             "#c51b7d"
            ],
            [
             0.2,
             "#de77ae"
            ],
            [
             0.3,
             "#f1b6da"
            ],
            [
             0.4,
             "#fde0ef"
            ],
            [
             0.5,
             "#f7f7f7"
            ],
            [
             0.6,
             "#e6f5d0"
            ],
            [
             0.7,
             "#b8e186"
            ],
            [
             0.8,
             "#7fbc41"
            ],
            [
             0.9,
             "#4d9221"
            ],
            [
             1,
             "#276419"
            ]
           ],
           "sequential": [
            [
             0,
             "#0d0887"
            ],
            [
             0.1111111111111111,
             "#46039f"
            ],
            [
             0.2222222222222222,
             "#7201a8"
            ],
            [
             0.3333333333333333,
             "#9c179e"
            ],
            [
             0.4444444444444444,
             "#bd3786"
            ],
            [
             0.5555555555555556,
             "#d8576b"
            ],
            [
             0.6666666666666666,
             "#ed7953"
            ],
            [
             0.7777777777777778,
             "#fb9f3a"
            ],
            [
             0.8888888888888888,
             "#fdca26"
            ],
            [
             1,
             "#f0f921"
            ]
           ],
           "sequentialminus": [
            [
             0,
             "#0d0887"
            ],
            [
             0.1111111111111111,
             "#46039f"
            ],
            [
             0.2222222222222222,
             "#7201a8"
            ],
            [
             0.3333333333333333,
             "#9c179e"
            ],
            [
             0.4444444444444444,
             "#bd3786"
            ],
            [
             0.5555555555555556,
             "#d8576b"
            ],
            [
             0.6666666666666666,
             "#ed7953"
            ],
            [
             0.7777777777777778,
             "#fb9f3a"
            ],
            [
             0.8888888888888888,
             "#fdca26"
            ],
            [
             1,
             "#f0f921"
            ]
           ]
          },
          "colorway": [
           "#636efa",
           "#EF553B",
           "#00cc96",
           "#ab63fa",
           "#FFA15A",
           "#19d3f3",
           "#FF6692",
           "#B6E880",
           "#FF97FF",
           "#FECB52"
          ],
          "font": {
           "color": "#2a3f5f"
          },
          "geo": {
           "bgcolor": "white",
           "lakecolor": "white",
           "landcolor": "#E5ECF6",
           "showlakes": true,
           "showland": true,
           "subunitcolor": "white"
          },
          "hoverlabel": {
           "align": "left"
          },
          "hovermode": "closest",
          "mapbox": {
           "style": "light"
          },
          "paper_bgcolor": "white",
          "plot_bgcolor": "#E5ECF6",
          "polar": {
           "angularaxis": {
            "gridcolor": "white",
            "linecolor": "white",
            "ticks": ""
           },
           "bgcolor": "#E5ECF6",
           "radialaxis": {
            "gridcolor": "white",
            "linecolor": "white",
            "ticks": ""
           }
          },
          "scene": {
           "xaxis": {
            "backgroundcolor": "#E5ECF6",
            "gridcolor": "white",
            "gridwidth": 2,
            "linecolor": "white",
            "showbackground": true,
            "ticks": "",
            "zerolinecolor": "white"
           },
           "yaxis": {
            "backgroundcolor": "#E5ECF6",
            "gridcolor": "white",
            "gridwidth": 2,
            "linecolor": "white",
            "showbackground": true,
            "ticks": "",
            "zerolinecolor": "white"
           },
           "zaxis": {
            "backgroundcolor": "#E5ECF6",
            "gridcolor": "white",
            "gridwidth": 2,
            "linecolor": "white",
            "showbackground": true,
            "ticks": "",
            "zerolinecolor": "white"
           }
          },
          "shapedefaults": {
           "line": {
            "color": "#2a3f5f"
           }
          },
          "ternary": {
           "aaxis": {
            "gridcolor": "white",
            "linecolor": "white",
            "ticks": ""
           },
           "baxis": {
            "gridcolor": "white",
            "linecolor": "white",
            "ticks": ""
           },
           "bgcolor": "#E5ECF6",
           "caxis": {
            "gridcolor": "white",
            "linecolor": "white",
            "ticks": ""
           }
          },
          "title": {
           "x": 0.05
          },
          "xaxis": {
           "automargin": true,
           "gridcolor": "white",
           "linecolor": "white",
           "ticks": "",
           "title": {
            "standoff": 15
           },
           "zerolinecolor": "white",
           "zerolinewidth": 2
          },
          "yaxis": {
           "automargin": true,
           "gridcolor": "white",
           "linecolor": "white",
           "ticks": "",
           "title": {
            "standoff": 15
           },
           "zerolinecolor": "white",
           "zerolinewidth": 2
          }
         }
        },
        "title": {
         "text": "ETH 14-Day Future BD-LSTM Forecast (Unseen Data)"
        },
        "xaxis": {
         "title": {
          "text": "Date"
         }
        },
        "yaxis": {
         "title": {
          "text": "ETH Close Price (USD)"
         }
        }
       }
      }
     },
     "metadata": {},
     "output_type": "display_data"
    },
    {
     "name": "stdout",
     "output_type": "stream",
     "text": [
      "Saved BD-LSTM model for ETH\n",
      "\n",
      "====== Processing LTC ======\n"
     ]
    },
    {
     "name": "stderr",
     "output_type": "stream",
     "text": [
      "C:\\Users\\allif\\AppData\\Local\\Temp\\ipykernel_32248\\1080004764.py:16: DeprecationWarning:\n",
      "\n",
      "KerasRegressor is deprecated, use Sci-Keras (https://github.com/adriangb/scikeras) instead. See https://www.adriangb.com/scikeras/stable/migration.html for help migrating.\n",
      "\n"
     ]
    },
    {
     "name": "stdout",
     "output_type": "stream",
     "text": [
      "Fitting 3 folds for each of 4 candidates, totalling 12 fits\n",
      "[CV] END batch_size=16, dropout=0.1, epochs=10, lstm_units=32; total time=  28.7s\n",
      "[CV] END batch_size=16, dropout=0.1, epochs=10, lstm_units=32; total time=  21.5s\n",
      "[CV] END batch_size=16, dropout=0.1, epochs=10, lstm_units=32; total time=  32.8s\n",
      "[CV] END batch_size=32, dropout=0.1, epochs=10, lstm_units=32; total time=  11.1s\n",
      "[CV] END batch_size=32, dropout=0.1, epochs=10, lstm_units=32; total time=  18.7s\n",
      "[CV] END batch_size=32, dropout=0.1, epochs=10, lstm_units=32; total time=  24.8s\n",
      "[CV] END batch_size=32, dropout=0.1, epochs=15, lstm_units=32; total time=  16.6s\n",
      "[CV] END batch_size=32, dropout=0.1, epochs=15, lstm_units=32; total time=  21.7s\n",
      "[CV] END batch_size=32, dropout=0.1, epochs=15, lstm_units=32; total time=  25.2s\n",
      "[CV] END batch_size=32, dropout=0.2, epochs=10, lstm_units=32; total time=  10.9s\n",
      "[CV] END batch_size=32, dropout=0.2, epochs=10, lstm_units=32; total time=  13.2s\n",
      "[CV] END batch_size=32, dropout=0.2, epochs=10, lstm_units=32; total time=  17.3s\n",
      "Best hyperparameters for LTC: {'lstm_units': 32, 'epochs': 10, 'dropout': 0.1, 'batch_size': 16}\n",
      "Epoch 1/10\n",
      "88/88 - 6s - loss: 0.0311 - 6s/epoch - 70ms/step\n",
      "Epoch 2/10\n",
      "88/88 - 3s - loss: 0.0075 - 3s/epoch - 35ms/step\n",
      "Epoch 3/10\n",
      "88/88 - 4s - loss: 0.0061 - 4s/epoch - 40ms/step\n",
      "Epoch 4/10\n",
      "88/88 - 3s - loss: 0.0050 - 3s/epoch - 38ms/step\n",
      "Epoch 5/10\n",
      "88/88 - 3s - loss: 0.0046 - 3s/epoch - 35ms/step\n",
      "Epoch 6/10\n",
      "88/88 - 3s - loss: 0.0043 - 3s/epoch - 35ms/step\n",
      "Epoch 7/10\n",
      "88/88 - 3s - loss: 0.0037 - 3s/epoch - 35ms/step\n",
      "Epoch 8/10\n",
      "88/88 - 3s - loss: 0.0036 - 3s/epoch - 39ms/step\n",
      "Epoch 9/10\n",
      "88/88 - 3s - loss: 0.0035 - 3s/epoch - 39ms/step\n",
      "Epoch 10/10\n",
      "88/88 - 3s - loss: 0.0033 - 3s/epoch - 36ms/step\n",
      "11/11 [==============================] - 1s 22ms/step\n",
      "LTC MAE: 86.67 | RMSE: 103.01 | R2: 0.0802\n"
     ]
    },
    {
     "data": {
      "image/png": "[encoded data removed]",
      "text/plain": [
       "<Figure size 1400x700 with 1 Axes>"
      ]
     },
     "metadata": {},
     "output_type": "display_data"
    },
    {
     "name": "stdout",
     "output_type": "stream",
     "text": [
      "1/1 [==============================] - 0s 44ms/step\n"
     ]
    },
    {
     "data": {
      "application/vnd.plotly.v1+json": {
       "config": {
        "plotlyServerURL": "https://plot.ly"
       },
       "data": [
        {
         "mode": "lines+markers",
         "name": "LTC Forecast (next 14d)",
         "type": "scatter",
         "x": [
          "2025-07-25T00:00:00",
          "2025-07-26T00:00:00",
          "2025-07-27T00:00:00",
          "2025-07-28T00:00:00",
          "2025-07-29T00:00:00",
          "2025-07-30T00:00:00",
          "2025-07-31T00:00:00",
          "2025-08-01T00:00:00",
          "2025-08-02T00:00:00",
          "2025-08-03T00:00:00",
          "2025-08-04T00:00:00",
          "2025-08-05T00:00:00",
          "2025-08-06T00:00:00",
          "2025-08-07T00:00:00"
         ],
         "y": [
          1877.9988317996263,
          1867.0168132573365,
          1855.9977617830039,
          1893.6922189384698,
          1851.3757734209298,
          1861.175912389159,
          1906.6246200054884,
          1904.7586892724037,
          1868.8614152491093,
          1824.72507956475,
          1895.405562853813,
          1805.780980633199,
          1864.6378511160613,
          1856.2783488929272
         ]
        }
       ],
       "layout": {
        "template": {
         "data": {
          "bar": [
           {
            "error_x": {
             "color": "#2a3f5f"
            },
            "error_y": {
             "color": "#2a3f5f"
            },
            "marker": {
             "line": {
              "color": "#E5ECF6",
              "width": 0.5
             },
             "pattern": {
              "fillmode": "overlay",
              "size": 10,
              "solidity": 0.2
             }
            },
            "type": "bar"
           }
          ],
          "barpolar": [
           {
            "marker": {
             "line": {
              "color": "#E5ECF6",
              "width": 0.5
             },
             "pattern": {
              "fillmode": "overlay",
              "size": 10,
              "solidity": 0.2
             }
            },
            "type": "barpolar"
           }
          ],
          "carpet": [
           {
            "aaxis": {
             "endlinecolor": "#2a3f5f",
             "gridcolor": "white",
             "linecolor": "white",
             "minorgridcolor": "white",
             "startlinecolor": "#2a3f5f"
            },
            "baxis": {
             "endlinecolor": "#2a3f5f",
             "gridcolor": "white",
             "linecolor": "white",
             "minorgridcolor": "white",
             "startlinecolor": "#2a3f5f"
            },
            "type": "carpet"
           }
          ],
          "choropleth": [
           {
            "colorbar": {
             "outlinewidth": 0,
             "ticks": ""
            },
            "type": "choropleth"
           }
          ],
          "contour": [
           {
            "colorbar": {
             "outlinewidth": 0,
             "ticks": ""
            },
            "colorscale": [
             [
              0,
              "#0d0887"
             ],
             [
              0.1111111111111111,
              "#46039f"
             ],
             [
              0.2222222222222222,
              "#7201a8"
             ],
             [
              0.3333333333333333,
              "#9c179e"
             ],
             [
              0.4444444444444444,
              "#bd3786"
             ],
             [
              0.5555555555555556,
              "#d8576b"
             ],
             [
              0.6666666666666666,
              "#ed7953"
             ],
             [
              0.7777777777777778,
              "#fb9f3a"
             ],
             [
              0.8888888888888888,
              "#fdca26"
             ],
             [
              1,
              "#f0f921"
             ]
            ],
            "type": "contour"
           }
          ],
          "contourcarpet": [
           {
            "colorbar": {
             "outlinewidth": 0,
             "ticks": ""
            },
            "type": "contourcarpet"
           }
          ],
          "heatmap": [
           {
            "colorbar": {
             "outlinewidth": 0,
             "ticks": ""
            },
            "colorscale": [
             [
              0,
              "#0d0887"
             ],
             [
              0.1111111111111111,
              "#46039f"
             ],
             [
              0.2222222222222222,
              "#7201a8"
             ],
             [
              0.3333333333333333,
              "#9c179e"
             ],
             [
              0.4444444444444444,
              "#bd3786"
             ],
             [
              0.5555555555555556,
              "#d8576b"
             ],
             [
              0.6666666666666666,
              "#ed7953"
             ],
             [
              0.7777777777777778,
              "#fb9f3a"
             ],
             [
              0.8888888888888888,
              "#fdca26"
             ],
             [
              1,
              "#f0f921"
             ]
            ],
            "type": "heatmap"
           }
          ],
          "heatmapgl": [
           {
            "colorbar": {
             "outlinewidth": 0,
             "ticks": ""
            },
            "colorscale": [
             [
              0,
              "#0d0887"
             ],
             [
              0.1111111111111111,
              "#46039f"
             ],
             [
              0.2222222222222222,
              "#7201a8"
             ],
             [
              0.3333333333333333,
              "#9c179e"
             ],
             [
              0.4444444444444444,
              "#bd3786"
             ],
             [
              0.5555555555555556,
              "#d8576b"
             ],
             [
              0.6666666666666666,
              "#ed7953"
             ],
             [
              0.7777777777777778,
              "#fb9f3a"
             ],
             [
              0.8888888888888888,
              "#fdca26"
             ],
             [
              1,
              "#f0f921"
             ]
            ],
            "type": "heatmapgl"
           }
          ],
          "histogram": [
           {
            "marker": {
             "pattern": {
              "fillmode": "overlay",
              "size": 10,
              "solidity": 0.2
             }
            },
            "type": "histogram"
           }
          ],
          "histogram2d": [
           {
            "colorbar": {
             "outlinewidth": 0,
             "ticks": ""
            },
            "colorscale": [
             [
              0,
              "#0d0887"
             ],
             [
              0.1111111111111111,
              "#46039f"
             ],
             [
              0.2222222222222222,
              "#7201a8"
             ],
             [
              0.3333333333333333,
              "#9c179e"
             ],
             [
              0.4444444444444444,
              "#bd3786"
             ],
             [
              0.5555555555555556,
              "#d8576b"
             ],
             [
              0.6666666666666666,
              "#ed7953"
             ],
             [
              0.7777777777777778,
              "#fb9f3a"
             ],
             [
              0.8888888888888888,
              "#fdca26"
             ],
             [
              1,
              "#f0f921"
             ]
            ],
            "type": "histogram2d"
           }
          ],
          "histogram2dcontour": [
           {
            "colorbar": {
             "outlinewidth": 0,
             "ticks": ""
            },
            "colorscale": [
             [
              0,
              "#0d0887"
             ],
             [
              0.1111111111111111,
              "#46039f"
             ],
             [
              0.2222222222222222,
              "#7201a8"
             ],
             [
              0.3333333333333333,
              "#9c179e"
             ],
             [
              0.4444444444444444,
              "#bd3786"
             ],
             [
              0.5555555555555556,
              "#d8576b"
             ],
             [
              0.6666666666666666,
              "#ed7953"
             ],
             [
              0.7777777777777778,
              "#fb9f3a"
             ],
             [
              0.8888888888888888,
              "#fdca26"
             ],
             [
              1,
              "#f0f921"
             ]
            ],
            "type": "histogram2dcontour"
           }
          ],
          "mesh3d": [
           {
            "colorbar": {
             "outlinewidth": 0,
             "ticks": ""
            },
            "type": "mesh3d"
           }
          ],
          "parcoords": [
           {
            "line": {
             "colorbar": {
              "outlinewidth": 0,
              "ticks": ""
             }
            },
            "type": "parcoords"
           }
          ],
          "pie": [
           {
            "automargin": true,
            "type": "pie"
           }
          ],
          "scatter": [
           {
            "fillpattern": {
             "fillmode": "overlay",
             "size": 10,
             "solidity": 0.2
            },
            "type": "scatter"
           }
          ],
          "scatter3d": [
           {
            "line": {
             "colorbar": {
              "outlinewidth": 0,
              "ticks": ""
             }
            },
            "marker": {
             "colorbar": {
              "outlinewidth": 0,
              "ticks": ""
             }
            },
            "type": "scatter3d"
           }
          ],
          "scattercarpet": [
           {
            "marker": {
             "colorbar": {
              "outlinewidth": 0,
              "ticks": ""
             }
            },
            "type": "scattercarpet"
           }
          ],
          "scattergeo": [
           {
            "marker": {
             "colorbar": {
              "outlinewidth": 0,
              "ticks": ""
             }
            },
            "type": "scattergeo"
           }
          ],
          "scattergl": [
           {
            "marker": {
             "colorbar": {
              "outlinewidth": 0,
              "ticks": ""
             }
            },
            "type": "scattergl"
           }
          ],
          "scattermapbox": [
           {
            "marker": {
             "colorbar": {
              "outlinewidth": 0,
              "ticks": ""
             }
            },
            "type": "scattermapbox"
           }
          ],
          "scatterpolar": [
           {
            "marker": {
             "colorbar": {
              "outlinewidth": 0,
              "ticks": ""
             }
            },
            "type": "scatterpolar"
           }
          ],
          "scatterpolargl": [
           {
            "marker": {
             "colorbar": {
              "outlinewidth": 0,
              "ticks": ""
             }
            },
            "type": "scatterpolargl"
           }
          ],
          "scatterternary": [
           {
            "marker": {
             "colorbar": {
              "outlinewidth": 0,
              "ticks": ""
             }
            },
            "type": "scatterternary"
           }
          ],
          "surface": [
           {
            "colorbar": {
             "outlinewidth": 0,
             "ticks": ""
            },
            "colorscale": [
             [
              0,
              "#0d0887"
             ],
             [
              0.1111111111111111,
              "#46039f"
             ],
             [
              0.2222222222222222,
              "#7201a8"
             ],
             [
              0.3333333333333333,
              "#9c179e"
             ],
             [
              0.4444444444444444,
              "#bd3786"
             ],
             [
              0.5555555555555556,
              "#d8576b"
             ],
             [
              0.6666666666666666,
              "#ed7953"
             ],
             [
              0.7777777777777778,
              "#fb9f3a"
             ],
             [
              0.8888888888888888,
              "#fdca26"
             ],
             [
              1,
              "#f0f921"
             ]
            ],
            "type": "surface"
           }
          ],
          "table": [
           {
            "cells": {
             "fill": {
              "color": "#EBF0F8"
             },
             "line": {
              "color": "white"
             }
            },
            "header": {
             "fill": {
              "color": "#C8D4E3"
             },
             "line": {
              "color": "white"
             }
            },
            "type": "table"
           }
          ]
         },
         "layout": {
          "annotationdefaults": {
           "arrowcolor": "#2a3f5f",
           "arrowhead": 0,
           "arrowwidth": 1
          },
          "autotypenumbers": "strict",
          "coloraxis": {
           "colorbar": {
            "outlinewidth": 0,
            "ticks": ""
           }
          },
          "colorscale": {
           "diverging": [
            [
             0,
             "#8e0152"
            ],
            [
             0.1,
             "#c51b7d"
            ],
            [
             0.2,
             "#de77ae"
            ],
            [
             0.3,
             "#f1b6da"
            ],
            [
             0.4,
             "#fde0ef"
            ],
            [
             0.5,
             "#f7f7f7"
            ],
            [
             0.6,
             "#e6f5d0"
            ],
            [
             0.7,
             "#b8e186"
            ],
            [
             0.8,
             "#7fbc41"
            ],
            [
             0.9,
             "#4d9221"
            ],
            [
             1,
             "#276419"
            ]
           ],
           "sequential": [
            [
             0,
             "#0d0887"
            ],
            [
             0.1111111111111111,
             "#46039f"
            ],
            [
             0.2222222222222222,
             "#7201a8"
            ],
            [
             0.3333333333333333,
             "#9c179e"
            ],
            [
             0.4444444444444444,
             "#bd3786"
            ],
            [
             0.5555555555555556,
             "#d8576b"
            ],
            [
             0.6666666666666666,
             "#ed7953"
            ],
            [
             0.7777777777777778,
             "#fb9f3a"
            ],
            [
             0.8888888888888888,
             "#fdca26"
            ],
            [
             1,
             "#f0f921"
            ]
           ],
           "sequentialminus": [
            [
             0,
             "#0d0887"
            ],
            [
             0.1111111111111111,
             "#46039f"
            ],
            [
             0.2222222222222222,
             "#7201a8"
            ],
            [
             0.3333333333333333,
             "#9c179e"
            ],
            [
             0.4444444444444444,
             "#bd3786"
            ],
            [
             0.5555555555555556,
             "#d8576b"
            ],
            [
             0.6666666666666666,
             "#ed7953"
            ],
            [
             0.7777777777777778,
             "#fb9f3a"
            ],
            [
             0.8888888888888888,
             "#fdca26"
            ],
            [
             1,
             "#f0f921"
            ]
           ]
          },
          "colorway": [
           "#636efa",
           "#EF553B",
           "#00cc96",
           "#ab63fa",
           "#FFA15A",
           "#19d3f3",
           "#FF6692",
           "#B6E880",
           "#FF97FF",
           "#FECB52"
          ],
          "font": {
           "color": "#2a3f5f"
          },
          "geo": {
           "bgcolor": "white",
           "lakecolor": "white",
           "landcolor": "#E5ECF6",
           "showlakes": true,
           "showland": true,
           "subunitcolor": "white"
          },
          "hoverlabel": {
           "align": "left"
          },
          "hovermode": "closest",
          "mapbox": {
           "style": "light"
          },
          "paper_bgcolor": "white",
          "plot_bgcolor": "#E5ECF6",
          "polar": {
           "angularaxis": {
            "gridcolor": "white",
            "linecolor": "white",
            "ticks": ""
           },
           "bgcolor": "#E5ECF6",
           "radialaxis": {
            "gridcolor": "white",
            "linecolor": "white",
            "ticks": ""
           }
          },
          "scene": {
           "xaxis": {
            "backgroundcolor": "#E5ECF6",
            "gridcolor": "white",
            "gridwidth": 2,
            "linecolor": "white",
            "showbackground": true,
            "ticks": "",
            "zerolinecolor": "white"
           },
           "yaxis": {
            "backgroundcolor": "#E5ECF6",
            "gridcolor": "white",
            "gridwidth": 2,
            "linecolor": "white",
            "showbackground": true,
            "ticks": "",
            "zerolinecolor": "white"
           },
           "zaxis": {
            "backgroundcolor": "#E5ECF6",
            "gridcolor": "white",
            "gridwidth": 2,
            "linecolor": "white",
            "showbackground": true,
            "ticks": "",
            "zerolinecolor": "white"
           }
          },
          "shapedefaults": {
           "line": {
            "color": "#2a3f5f"
           }
          },
          "ternary": {
           "aaxis": {
            "gridcolor": "white",
            "linecolor": "white",
            "ticks": ""
           },
           "baxis": {
            "gridcolor": "white",
            "linecolor": "white",
            "ticks": ""
           },
           "bgcolor": "#E5ECF6",
           "caxis": {
            "gridcolor": "white",
            "linecolor": "white",
            "ticks": ""
           }
          },
          "title": {
           "x": 0.05
          },
          "xaxis": {
           "automargin": true,
           "gridcolor": "white",
           "linecolor": "white",
           "ticks": "",
           "title": {
            "standoff": 15
           },
           "zerolinecolor": "white",
           "zerolinewidth": 2
          },
          "yaxis": {
           "automargin": true,
           "gridcolor": "white",
           "linecolor": "white",
           "ticks": "",
           "title": {
            "standoff": 15
           },
           "zerolinecolor": "white",
           "zerolinewidth": 2
          }
         }
        },
        "title": {
         "text": "LTC 14-Day Future BD-LSTM Forecast (Unseen Data)"
        },
        "xaxis": {
         "title": {
          "text": "Date"
         }
        },
        "yaxis": {
         "title": {
          "text": "LTC Close Price (USD)"
         }
        }
       }
      }
     },
     "metadata": {},
     "output_type": "display_data"
    },
    {
     "name": "stdout",
     "output_type": "stream",
     "text": [
      "Saved BD-LSTM model for LTC\n",
      "\n",
      "====== Processing Gold ======\n"
     ]
    },
    {
     "name": "stderr",
     "output_type": "stream",
     "text": [
      "C:\\Users\\allif\\AppData\\Local\\Temp\\ipykernel_32248\\1080004764.py:16: DeprecationWarning:\n",
      "\n",
      "KerasRegressor is deprecated, use Sci-Keras (https://github.com/adriangb/scikeras) instead. See https://www.adriangb.com/scikeras/stable/migration.html for help migrating.\n",
      "\n"
     ]
    },
    {
     "name": "stdout",
     "output_type": "stream",
     "text": [
      "Fitting 3 folds for each of 4 candidates, totalling 12 fits\n",
      "[CV] END batch_size=16, dropout=0.2, epochs=10, lstm_units=64; total time=  17.3s\n",
      "[CV] END batch_size=16, dropout=0.2, epochs=10, lstm_units=64; total time=  30.0s\n",
      "[CV] END batch_size=16, dropout=0.2, epochs=10, lstm_units=64; total time=  42.5s\n",
      "[CV] END batch_size=16, dropout=0.1, epochs=10, lstm_units=64; total time=  18.1s\n",
      "[CV] END batch_size=16, dropout=0.1, epochs=10, lstm_units=64; total time=  30.1s\n",
      "[CV] END batch_size=16, dropout=0.1, epochs=10, lstm_units=64; total time=  48.5s\n",
      "[CV] END batch_size=32, dropout=0.1, epochs=10, lstm_units=64; total time=  13.8s\n",
      "[CV] END batch_size=32, dropout=0.1, epochs=10, lstm_units=64; total time=  20.3s\n",
      "[CV] END batch_size=32, dropout=0.1, epochs=10, lstm_units=64; total time=  32.2s\n",
      "[CV] END batch_size=16, dropout=0.1, epochs=15, lstm_units=64; total time=  25.7s\n",
      "[CV] END batch_size=16, dropout=0.1, epochs=15, lstm_units=64; total time=  49.4s\n",
      "[CV] END batch_size=16, dropout=0.1, epochs=15, lstm_units=64; total time= 1.1min\n",
      "Best hyperparameters for Gold: {'lstm_units': 64, 'epochs': 10, 'dropout': 0.1, 'batch_size': 16}\n",
      "Epoch 1/10\n",
      "88/88 - 10s - loss: 0.0063 - 10s/epoch - 113ms/step\n",
      "Epoch 2/10\n",
      "88/88 - 7s - loss: 0.0017 - 7s/epoch - 76ms/step\n",
      "Epoch 3/10\n",
      "88/88 - 6s - loss: 0.0013 - 6s/epoch - 65ms/step\n",
      "Epoch 4/10\n",
      "88/88 - 6s - loss: 0.0010 - 6s/epoch - 63ms/step\n",
      "Epoch 5/10\n",
      "88/88 - 6s - loss: 9.2568e-04 - 6s/epoch - 65ms/step\n",
      "Epoch 6/10\n",
      "88/88 - 6s - loss: 7.7149e-04 - 6s/epoch - 65ms/step\n",
      "Epoch 7/10\n",
      "88/88 - 6s - loss: 7.6413e-04 - 6s/epoch - 72ms/step\n",
      "Epoch 8/10\n",
      "88/88 - 6s - loss: 7.1378e-04 - 6s/epoch - 65ms/step\n",
      "Epoch 9/10\n",
      "88/88 - 6s - loss: 6.9898e-04 - 6s/epoch - 69ms/step\n",
      "Epoch 10/10\n",
      "88/88 - 5s - loss: 7.1553e-04 - 5s/epoch - 62ms/step\n",
      "11/11 [==============================] - 1s 27ms/step\n",
      "Gold MAE: 0.03 | RMSE: 0.03 | R2: 0.6595\n"
     ]
    },
    {
     "data": {
      "image/png": "[encoded data removed]",
      "text/plain": [
       "<Figure size 1400x700 with 1 Axes>"
      ]
     },
     "metadata": {},
     "output_type": "display_data"
    },
    {
     "name": "stdout",
     "output_type": "stream",
     "text": [
      "1/1 [==============================] - 0s 26ms/step\n"
     ]
    },
    {
     "data": {
      "application/vnd.plotly.v1+json": {
       "config": {
        "plotlyServerURL": "https://plot.ly"
       },
       "data": [
        {
         "mode": "lines+markers",
         "name": "Gold Forecast (next 14d)",
         "type": "scatter",
         "x": [
          "2025-07-25T00:00:00",
          "2025-07-26T00:00:00",
          "2025-07-27T00:00:00",
          "2025-07-28T00:00:00",
          "2025-07-29T00:00:00",
          "2025-07-30T00:00:00",
          "2025-07-31T00:00:00",
          "2025-08-01T00:00:00",
          "2025-08-02T00:00:00",
          "2025-08-03T00:00:00",
          "2025-08-04T00:00:00",
          "2025-08-05T00:00:00",
          "2025-08-06T00:00:00",
          "2025-08-07T00:00:00"
         ],
         "y": [
          0.11596249721349192,
          0.1123827677333509,
          0.11364255841364349,
          0.11385426683046436,
          0.12519565679459485,
          0.10733944579216523,
          0.10422322226135845,
          0.12247651523406532,
          0.12456604971722189,
          0.12038595124100394,
          0.09735826490444048,
          0.10915605719956215,
          0.1197485404785527,
          0.11736312484875967
         ]
        }
       ],
       "layout": {
        "template": {
         "data": {
          "bar": [
           {
            "error_x": {
             "color": "#2a3f5f"
            },
            "error_y": {
             "color": "#2a3f5f"
            },
            "marker": {
             "line": {
              "color": "#E5ECF6",
              "width": 0.5
             },
             "pattern": {
              "fillmode": "overlay",
              "size": 10,
              "solidity": 0.2
             }
            },
            "type": "bar"
           }
          ],
          "barpolar": [
           {
            "marker": {
             "line": {
              "color": "#E5ECF6",
              "width": 0.5
             },
             "pattern": {
              "fillmode": "overlay",
              "size": 10,
              "solidity": 0.2
             }
            },
            "type": "barpolar"
           }
          ],
          "carpet": [
           {
            "aaxis": {
             "endlinecolor": "#2a3f5f",
             "gridcolor": "white",
             "linecolor": "white",
             "minorgridcolor": "white",
             "startlinecolor": "#2a3f5f"
            },
            "baxis": {
             "endlinecolor": "#2a3f5f",
             "gridcolor": "white",
             "linecolor": "white",
             "minorgridcolor": "white",
             "startlinecolor": "#2a3f5f"
            },
            "type": "carpet"
           }
          ],
          "choropleth": [
           {
            "colorbar": {
             "outlinewidth": 0,
             "ticks": ""
            },
            "type": "choropleth"
           }
          ],
          "contour": [
           {
            "colorbar": {
             "outlinewidth": 0,
             "ticks": ""
            },
            "colorscale": [
             [
              0,
              "#0d0887"
             ],
             [
              0.1111111111111111,
              "#46039f"
             ],
             [
              0.2222222222222222,
              "#7201a8"
             ],
             [
              0.3333333333333333,
              "#9c179e"
             ],
             [
              0.4444444444444444,
              "#bd3786"
             ],
             [
              0.5555555555555556,
              "#d8576b"
             ],
             [
              0.6666666666666666,
              "#ed7953"
             ],
             [
              0.7777777777777778,
              "#fb9f3a"
             ],
             [
              0.8888888888888888,
              "#fdca26"
             ],
             [
              1,
              "#f0f921"
             ]
            ],
            "type": "contour"
           }
          ],
          "contourcarpet": [
           {
            "colorbar": {
             "outlinewidth": 0,
             "ticks": ""
            },
            "type": "contourcarpet"
           }
          ],
          "heatmap": [
           {
            "colorbar": {
             "outlinewidth": 0,
             "ticks": ""
            },
            "colorscale": [
             [
              0,
              "#0d0887"
             ],
             [
              0.1111111111111111,
              "#46039f"
             ],
             [
              0.2222222222222222,
              "#7201a8"
             ],
             [
              0.3333333333333333,
              "#9c179e"
             ],
             [
              0.4444444444444444,
              "#bd3786"
             ],
             [
              0.5555555555555556,
              "#d8576b"
             ],
             [
              0.6666666666666666,
              "#ed7953"
             ],
             [
              0.7777777777777778,
              "#fb9f3a"
             ],
             [
              0.8888888888888888,
              "#fdca26"
             ],
             [
              1,
              "#f0f921"
             ]
            ],
            "type": "heatmap"
           }
          ],
          "heatmapgl": [
           {
            "colorbar": {
             "outlinewidth": 0,
             "ticks": ""
            },
            "colorscale": [
             [
              0,
              "#0d0887"
             ],
             [
              0.1111111111111111,
              "#46039f"
             ],
             [
              0.2222222222222222,
              "#7201a8"
             ],
             [
              0.3333333333333333,
              "#9c179e"
             ],
             [
              0.4444444444444444,
              "#bd3786"
             ],
             [
              0.5555555555555556,
              "#d8576b"
             ],
             [
              0.6666666666666666,
              "#ed7953"
             ],
             [
              0.7777777777777778,
              "#fb9f3a"
             ],
             [
              0.8888888888888888,
              "#fdca26"
             ],
             [
              1,
              "#f0f921"
             ]
            ],
            "type": "heatmapgl"
           }
          ],
          "histogram": [
           {
            "marker": {
             "pattern": {
              "fillmode": "overlay",
              "size": 10,
              "solidity": 0.2
             }
            },
            "type": "histogram"
           }
          ],
          "histogram2d": [
           {
            "colorbar": {
             "outlinewidth": 0,
             "ticks": ""
            },
            "colorscale": [
             [
              0,
              "#0d0887"
             ],
             [
              0.1111111111111111,
              "#46039f"
             ],
             [
              0.2222222222222222,
              "#7201a8"
             ],
             [
              0.3333333333333333,
              "#9c179e"
             ],
             [
              0.4444444444444444,
              "#bd3786"
             ],
             [
              0.5555555555555556,
              "#d8576b"
             ],
             [
              0.6666666666666666,
              "#ed7953"
             ],
             [
              0.7777777777777778,
              "#fb9f3a"
             ],
             [
              0.8888888888888888,
              "#fdca26"
             ],
             [
              1,
              "#f0f921"
             ]
            ],
            "type": "histogram2d"
           }
          ],
          "histogram2dcontour": [
           {
            "colorbar": {
             "outlinewidth": 0,
             "ticks": ""
            },
            "colorscale": [
             [
              0,
              "#0d0887"
             ],
             [
              0.1111111111111111,
              "#46039f"
             ],
             [
              0.2222222222222222,
              "#7201a8"
             ],
             [
              0.3333333333333333,
              "#9c179e"
             ],
             [
              0.4444444444444444,
              "#bd3786"
             ],
             [
              0.5555555555555556,
              "#d8576b"
             ],
             [
              0.6666666666666666,
              "#ed7953"
             ],
             [
              0.7777777777777778,
              "#fb9f3a"
             ],
             [
              0.8888888888888888,
              "#fdca26"
             ],
             [
              1,
              "#f0f921"
             ]
            ],
            "type": "histogram2dcontour"
           }
          ],
          "mesh3d": [
           {
            "colorbar": {
             "outlinewidth": 0,
             "ticks": ""
            },
            "type": "mesh3d"
           }
          ],
          "parcoords": [
           {
            "line": {
             "colorbar": {
              "outlinewidth": 0,
              "ticks": ""
             }
            },
            "type": "parcoords"
           }
          ],
          "pie": [
           {
            "automargin": true,
            "type": "pie"
           }
          ],
          "scatter": [
           {
            "fillpattern": {
             "fillmode": "overlay",
             "size": 10,
             "solidity": 0.2
            },
            "type": "scatter"
           }
          ],
          "scatter3d": [
           {
            "line": {
             "colorbar": {
              "outlinewidth": 0,
              "ticks": ""
             }
            },
            "marker": {
             "colorbar": {
              "outlinewidth": 0,
              "ticks": ""
             }
            },
            "type": "scatter3d"
           }
          ],
          "scattercarpet": [
           {
            "marker": {
             "colorbar": {
              "outlinewidth": 0,
              "ticks": ""
             }
            },
            "type": "scattercarpet"
           }
          ],
          "scattergeo": [
           {
            "marker": {
             "colorbar": {
              "outlinewidth": 0,
              "ticks": ""
             }
            },
            "type": "scattergeo"
           }
          ],
          "scattergl": [
           {
            "marker": {
             "colorbar": {
              "outlinewidth": 0,
              "ticks": ""
             }
            },
            "type": "scattergl"
           }
          ],
          "scattermapbox": [
           {
            "marker": {
             "colorbar": {
              "outlinewidth": 0,
              "ticks": ""
             }
            },
            "type": "scattermapbox"
           }
          ],
          "scatterpolar": [
           {
            "marker": {
             "colorbar": {
              "outlinewidth": 0,
              "ticks": ""
             }
            },
            "type": "scatterpolar"
           }
          ],
          "scatterpolargl": [
           {
            "marker": {
             "colorbar": {
              "outlinewidth": 0,
              "ticks": ""
             }
            },
            "type": "scatterpolargl"
           }
          ],
          "scatterternary": [
           {
            "marker": {
             "colorbar": {
              "outlinewidth": 0,
              "ticks": ""
             }
            },
            "type": "scatterternary"
           }
          ],
          "surface": [
           {
            "colorbar": {
             "outlinewidth": 0,
             "ticks": ""
            },
            "colorscale": [
             [
              0,
              "#0d0887"
             ],
             [
              0.1111111111111111,
              "#46039f"
             ],
             [
              0.2222222222222222,
              "#7201a8"
             ],
             [
              0.3333333333333333,
              "#9c179e"
             ],
             [
              0.4444444444444444,
              "#bd3786"
             ],
             [
              0.5555555555555556,
              "#d8576b"
             ],
             [
              0.6666666666666666,
              "#ed7953"
             ],
             [
              0.7777777777777778,
              "#fb9f3a"
             ],
             [
              0.8888888888888888,
              "#fdca26"
             ],
             [
              1,
              "#f0f921"
             ]
            ],
            "type": "surface"
           }
          ],
          "table": [
           {
            "cells": {
             "fill": {
              "color": "#EBF0F8"
             },
             "line": {
              "color": "white"
             }
            },
            "header": {
             "fill": {
              "color": "#C8D4E3"
             },
             "line": {
              "color": "white"
             }
            },
            "type": "table"
           }
          ]
         },
         "layout": {
          "annotationdefaults": {
           "arrowcolor": "#2a3f5f",
           "arrowhead": 0,
           "arrowwidth": 1
          },
          "autotypenumbers": "strict",
          "coloraxis": {
           "colorbar": {
            "outlinewidth": 0,
            "ticks": ""
           }
          },
          "colorscale": {
           "diverging": [
            [
             0,
             "#8e0152"
            ],
            [
             0.1,
             "#c51b7d"
            ],
            [
             0.2,
             "#de77ae"
            ],
            [
             0.3,
             "#f1b6da"
            ],
            [
             0.4,
             "#fde0ef"
            ],
            [
             0.5,
             "#f7f7f7"
            ],
            [
             0.6,
             "#e6f5d0"
            ],
            [
             0.7,
             "#b8e186"
            ],
            [
             0.8,
             "#7fbc41"
            ],
            [
             0.9,
             "#4d9221"
            ],
            [
             1,
             "#276419"
            ]
           ],
           "sequential": [
            [
             0,
             "#0d0887"
            ],
            [
             0.1111111111111111,
             "#46039f"
            ],
            [
             0.2222222222222222,
             "#7201a8"
            ],
            [
             0.3333333333333333,
             "#9c179e"
            ],
            [
             0.4444444444444444,
             "#bd3786"
            ],
            [
             0.5555555555555556,
             "#d8576b"
            ],
            [
             0.6666666666666666,
             "#ed7953"
            ],
            [
             0.7777777777777778,
             "#fb9f3a"
            ],
            [
             0.8888888888888888,
             "#fdca26"
            ],
            [
             1,
             "#f0f921"
            ]
           ],
           "sequentialminus": [
            [
             0,
             "#0d0887"
            ],
            [
             0.1111111111111111,
             "#46039f"
            ],
            [
             0.2222222222222222,
             "#7201a8"
            ],
            [
             0.3333333333333333,
             "#9c179e"
            ],
            [
             0.4444444444444444,
             "#bd3786"
            ],
            [
             0.5555555555555556,
             "#d8576b"
            ],
            [
             0.6666666666666666,
             "#ed7953"
            ],
            [
             0.7777777777777778,
             "#fb9f3a"
            ],
            [
             0.8888888888888888,
             "#fdca26"
            ],
            [
             1,
             "#f0f921"
            ]
           ]
          },
          "colorway": [
           "#636efa",
           "#EF553B",
           "#00cc96",
           "#ab63fa",
           "#FFA15A",
           "#19d3f3",
           "#FF6692",
           "#B6E880",
           "#FF97FF",
           "#FECB52"
          ],
          "font": {
           "color": "#2a3f5f"
          },
          "geo": {
           "bgcolor": "white",
           "lakecolor": "white",
           "landcolor": "#E5ECF6",
           "showlakes": true,
           "showland": true,
           "subunitcolor": "white"
          },
          "hoverlabel": {
           "align": "left"
          },
          "hovermode": "closest",
          "mapbox": {
           "style": "light"
          },
          "paper_bgcolor": "white",
          "plot_bgcolor": "#E5ECF6",
          "polar": {
           "angularaxis": {
            "gridcolor": "white",
            "linecolor": "white",
            "ticks": ""
           },
           "bgcolor": "#E5ECF6",
           "radialaxis": {
            "gridcolor": "white",
            "linecolor": "white",
            "ticks": ""
           }
          },
          "scene": {
           "xaxis": {
            "backgroundcolor": "#E5ECF6",
            "gridcolor": "white",
            "gridwidth": 2,
            "linecolor": "white",
            "showbackground": true,
            "ticks": "",
            "zerolinecolor": "white"
           },
           "yaxis": {
            "backgroundcolor": "#E5ECF6",
            "gridcolor": "white",
            "gridwidth": 2,
            "linecolor": "white",
            "showbackground": true,
            "ticks": "",
            "zerolinecolor": "white"
           },
           "zaxis": {
            "backgroundcolor": "#E5ECF6",
            "gridcolor": "white",
            "gridwidth": 2,
            "linecolor": "white",
            "showbackground": true,
            "ticks": "",
            "zerolinecolor": "white"
           }
          },
          "shapedefaults": {
           "line": {
            "color": "#2a3f5f"
           }
          },
          "ternary": {
           "aaxis": {
            "gridcolor": "white",
            "linecolor": "white",
            "ticks": ""
           },
           "baxis": {
            "gridcolor": "white",
            "linecolor": "white",
            "ticks": ""
           },
           "bgcolor": "#E5ECF6",
           "caxis": {
            "gridcolor": "white",
            "linecolor": "white",
            "ticks": ""
           }
          },
          "title": {
           "x": 0.05
          },
          "xaxis": {
           "automargin": true,
           "gridcolor": "white",
           "linecolor": "white",
           "ticks": "",
           "title": {
            "standoff": 15
           },
           "zerolinecolor": "white",
           "zerolinewidth": 2
          },
          "yaxis": {
           "automargin": true,
           "gridcolor": "white",
           "linecolor": "white",
           "ticks": "",
           "title": {
            "standoff": 15
           },
           "zerolinecolor": "white",
           "zerolinewidth": 2
          }
         }
        },
        "title": {
         "text": "Gold 14-Day Future BD-LSTM Forecast (Unseen Data)"
        },
        "xaxis": {
         "title": {
          "text": "Date"
         }
        },
        "yaxis": {
         "title": {
          "text": "Gold Close Price (USD)"
         }
        }
       }
      }
     },
     "metadata": {},
     "output_type": "display_data"
    },
    {
     "name": "stdout",
     "output_type": "stream",
     "text": [
      "Saved BD-LSTM model for Gold\n"
     ]
    }
   ],
   "source": [
    "\n",
    "# ---Main Loop for the coins ---\n",
    "for coin, info in coins.items():\n",
    "    print(f\"\\n====== Processing {coin} ======\")\n",
    "    target_col = info['col']\n",
    "    col_index = scaled_df.columns.get_loc(target_col)\n",
    "\n",
    "    # Prepare Data\n",
    "    X, Y = create_sliding_window(scaled_df, lookback, forecast_horizon, feature_cols, target_col)\n",
    "    split = int(0.8 * len(X))\n",
    "    X_train, X_test = X[:split], X[split:]\n",
    "    Y_train, Y_test = Y[:split], Y[split:]\n",
    "    Y_train_flat = Y_train.reshape(-1, forecast_horizon)\n",
    "    Y_test_flat = Y_test.reshape(-1, forecast_horizon)\n",
    "\n",
    "    # Hyperparameter Tuning\n",
    "    keras_reg = KerasRegressor(build_fn=build_bd_lstm_model, verbose=0)\n",
    "    param_dist = {\n",
    "        \"lstm_units\": [32, 64],\n",
    "        \"dropout\": [0.1, 0.2],\n",
    "        \"batch_size\": [16, 32],\n",
    "        \"epochs\": [10, 15]\n",
    "    }\n",
    "    tscv = TimeSeriesSplit(n_splits=3)\n",
    "    search = RandomizedSearchCV(\n",
    "        keras_reg, param_distributions=param_dist, n_iter=4,\n",
    "        cv=tscv, verbose=2, n_jobs=1\n",
    "    )\n",
    "    search.fit(X_train, Y_train_flat)\n",
    "    print(f\"Best hyperparameters for {coin}:\", search.best_params_)\n",
    "\n",
    "    # Retrain with Best Params\n",
    "    best = search.best_params_\n",
    "    best_model = build_bd_lstm_model(\n",
    "        lstm_units=best[\"lstm_units\"],\n",
    "        dropout=best[\"dropout\"]\n",
    "    )\n",
    "    best_model.fit(\n",
    "        X_train, Y_train_flat,\n",
    "        epochs=best[\"epochs\"],\n",
    "        batch_size=best[\"batch_size\"],\n",
    "        verbose=2\n",
    "    )\n",
    "\n",
    "    # --- Evaluate on Test ---\n",
    "    y_pred = best_model.predict(X_test).reshape(-1, forecast_horizon)\n",
    "    true_unscaled = inverse_close(Y_test_flat, scaler, col_index)\n",
    "    pred_unscaled = inverse_close(y_pred, scaler, col_index)\n",
    "    mae = mean_absolute_error(true_unscaled, pred_unscaled)\n",
    "    rmse = mean_squared_error(true_unscaled, pred_unscaled, squared=False)\n",
    "    r2 = r2_score(true_unscaled, pred_unscaled)\n",
    "    print(f\"{coin} MAE: {mae:.2f} | RMSE: {rmse:.2f} | R2: {r2:.4f}\")\n",
    "\n",
    "    # --- Plot Backtest ---\n",
    "    plt.figure(figsize=(14, 7))\n",
    "    plt.plot(true_unscaled.flatten(), label='True')\n",
    "    plt.plot(pred_unscaled.flatten(), label='Predicted')\n",
    "    plt.title(f\"{coin} Close Price: 14 Days BD-LSTM Forecast\")\n",
    "    plt.xlabel('Days')\n",
    "    plt.ylabel('Close Price')\n",
    "    plt.legend()\n",
    "    plt.show()\n",
    "\n",
    "    # --- Future Forecast (next 14 days) ---\n",
    "    last_window = scaled_df[feature_cols].iloc[-lookback:].values.reshape(1, lookback, len(feature_cols))\n",
    "    future_scaled = best_model.predict(last_window).reshape(forecast_horizon)\n",
    "    future_unscaled = inverse_close(future_scaled, scaler, col_index).flatten()\n",
    "    last_date = scaled_df['Date'].iloc[-1]\n",
    "    future_dates = pd.date_range(last_date + timedelta(days=1), periods=forecast_horizon)\n",
    "\n",
    "    # Plotting future forecast\n",
    "    fig = go.Figure()\n",
    "    fig.add_trace(go.Scatter(x=future_dates, y=future_unscaled, mode='lines+markers', name=f'{coin} Forecast (next 14d)'))\n",
    "    fig.update_layout(title=f'{coin} 14-Day Future BD-LSTM Forecast (Unseen Data)', xaxis_title='Date', yaxis_title=f'{coin} Close Price (USD)')\n",
    "    fig.show()\n",
    "\n",
    "    # Save the Model\n",
    "    best_model.save(f\"{coin.lower()}_bd_lstm_14d_model.h5\")\n",
    "    print(f\"Saved BD-LSTM model for {coin}\")\n"
   ]
  },
  {
   "cell_type": "markdown",
   "id": "50b75d9c",
   "metadata": {},
   "source": [
    "Splits data into training and testing\n",
    "\n",
    "Runs a RandomizedSearchCV to find the best hyperparameters for the BD-LSTM\n",
    "\n",
    "Retrains the best model on the full training set\n",
    "\n",
    "Evaluates on the test set (using MAE, RMSE, R²)\n",
    "\n",
    "Plots predictions vs. actual values\n",
    "\n",
    "Plots model predictions vs. true values for the test period so you can visually compare performa\n",
    "\n",
    "Uses the most recent data to predict the next 14 days of prices and plots the results.\n",
    "\n",
    "Saves the trained BD-LSTM model for each coin to disk for future use or deployment."
   ]
  },
  {
   "cell_type": "markdown",
   "id": "7b69230c",
   "metadata": {},
   "source": [
    "When comparing standard LSTM and BD-LSTM models, the BD-LSTM architecture generally provided lower error (MAE, RMSE) and higher R² scores for BTC, ETH, LTC, and Gold. This confirms the findings in the literature (e.g., Wu et al., 2024) that bidirectional architectures can leverage more sequence information, improving forecasting performance in crypto price prediction tasks."
   ]
  }
 ],
 "metadata": {
  "kernelspec": {
   "display_name": "Python 3",
   "language": "python",
   "name": "python3"
  },
  "language_info": {
   "codemirror_mode": {
    "name": "ipython",
    "version": 3
   },
   "file_extension": ".py",
   "mimetype": "text/x-python",
   "name": "python",
   "nbconvert_exporter": "python",
   "pygments_lexer": "ipython3",
   "version": "3.9.13"
  }
 },
 "nbformat": 4,
 "nbformat_minor": 5
}
